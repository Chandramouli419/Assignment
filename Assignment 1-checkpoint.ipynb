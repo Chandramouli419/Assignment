{
 "cells": [
  {
   "cell_type": "markdown",
   "metadata": {},
   "source": [
    "# TASK 1.1\n",
    "Install Jupyter notebook and run the first program and share the screenshot of the output"
   ]
  },
  {
   "attachments": {
    "image.png": {
     "image/png": "[encoded data removed]"
    }
   },
   "cell_type": "markdown",
   "metadata": {},
   "source": [
    "![image.png](attachment:image.png)"
   ]
  },
  {
   "cell_type": "markdown",
   "metadata": {},
   "source": [
    "# TASK 1.2 \n",
    "Write a program which will find all such numbers which are divisible by 7 but are not a multiple\n",
    "of 5, between 2000 and 3200 (both included). The numbers obtained should be printed in a\n",
    "comma-separated sequence on a single line"
   ]
  },
  {
   "cell_type": "code",
   "execution_count": 2,
   "metadata": {},
   "outputs": [
    {
     "name": "stdout",
     "output_type": "stream",
     "text": [
      "2002,2009,2016,2023,2037,2044,2051,2058,2072,2079,2086,2093,2107,2114,2121,2128,2142,2149,2156,2163,2177,2184,2191,2198,2212,2219,2226,2233,2247,2254,2261,2268,2282,2289,2296,2303,2317,2324,2331,2338,2352,2359,2366,2373,2387,2394,2401,2408,2422,2429,2436,2443,2457,2464,2471,2478,2492,2499,2506,2513,2527,2534,2541,2548,2562,2569,2576,2583,2597,2604,2611,2618,2632,2639,2646,2653,2667,2674,2681,2688,2702,2709,2716,2723,2737,2744,2751,2758,2772,2779,2786,2793,2807,2814,2821,2828,2842,2849,2856,2863,2877,2884,2891,2898,2912,2919,2926,2933,2947,2954,2961,2968,2982,2989,2996,3003,3017,3024,3031,3038,3052,3059,3066,3073,3087,3094,3101,3108,3122,3129,3136,3143,3157,3164,3171,3178,3192,3199,"
     ]
    }
   ],
   "source": [
    "l=[]\n",
    "m=2000\n",
    "n=3200\n",
    "for x in range(m,n+1):\n",
    "    if (x%7 == 0 and x%5 != 0):\n",
    "        l.append(x)   \n",
    "for i in l:  #to print output in a comma seperated sequence on single line\n",
    "    print(i,end=\",\")"
   ]
  },
  {
   "cell_type": "markdown",
   "metadata": {},
   "source": [
    "# TASK 1.3\n",
    "Write a Python program to accept the user's first and last name and then getting them printed in\n",
    "the the reverse order with a space between first name and last name."
   ]
  },
  {
   "cell_type": "code",
   "execution_count": 3,
   "metadata": {},
   "outputs": [
    {
     "name": "stdout",
     "output_type": "stream",
     "text": [
      "my first name :Chandra\n",
      "my second name :Mouli\n",
      "Mouli Chandra\n"
     ]
    }
   ],
   "source": [
    "x=input(\"my first name :\")\n",
    "y=input(\"my second name :\")\n",
    "print(y + ' ' + x)"
   ]
  },
  {
   "cell_type": "markdown",
   "metadata": {},
   "source": [
    "# OR"
   ]
  },
  {
   "cell_type": "code",
   "execution_count": 6,
   "metadata": {},
   "outputs": [
    {
     "name": "stdout",
     "output_type": "stream",
     "text": [
      "My first name :Chandra\n",
      "My Second Name :Mouli\n",
      "iluoM ardnahC\n"
     ]
    }
   ],
   "source": [
    "x=input(\"My first name :\")\n",
    "y=input(\"My Second Name :\")\n",
    "print(y[::-1] + ' ' + x[::-1])"
   ]
  },
  {
   "cell_type": "markdown",
   "metadata": {},
   "source": [
    "# TASK 1.4\n",
    "Write a Python program to find the volume of a sphere with diameter 12 cm.\n",
    "Formula: V=4/3 * π * r3"
   ]
  },
  {
   "cell_type": "code",
   "execution_count": 3,
   "metadata": {},
   "outputs": [
    {
     "name": "stdout",
     "output_type": "stream",
     "text": [
      "Enter diameter :12\n",
      "904.3199999999999\n"
     ]
    }
   ],
   "source": [
    "d=int(input(\"Enter diameter :\"))\n",
    "r=d/2  # radious is half of diameter\n",
    "pi=3.14\n",
    "v=4/3*pi*r**3\n",
    "print(v)"
   ]
  },
  {
   "cell_type": "markdown",
   "metadata": {},
   "source": [
    "# TASK 2.1\n",
    "Write a program which accepts a sequence of comma-separated numbers from console and\n",
    "generate a list."
   ]
  },
  {
   "cell_type": "code",
   "execution_count": 25,
   "metadata": {},
   "outputs": [
    {
     "name": "stdout",
     "output_type": "stream",
     "text": [
      "enter sequence :1,2,3,4,5,6\n",
      "['1', '2', '3', '4', '5', '6']\n"
     ]
    }
   ],
   "source": [
    "l=[]\n",
    "s=input(\"enter sequence :\")\n",
    "p=len(s)\n",
    "for i in s:\n",
    "    l.append(i)\n",
    "print(l[0:p:2])"
   ]
  },
  {
   "cell_type": "markdown",
   "metadata": {},
   "source": [
    "# TASK 2.2\n",
    "Create the below pattern using nested for loop in Python."
   ]
  },
  {
   "cell_type": "code",
   "execution_count": 58,
   "metadata": {},
   "outputs": [
    {
     "name": "stdout",
     "output_type": "stream",
     "text": [
      "enter number of stares :******\n",
      "*\n",
      "**\n",
      "***\n",
      "****\n",
      "*****\n",
      "******\n",
      "*****\n",
      "****\n",
      "***\n",
      "**\n",
      "*\n",
      "\n"
     ]
    }
   ],
   "source": [
    "s=input(\"enter number of stares :\")\n",
    "x=0\n",
    "for i in s:\n",
    "    x=x+1\n",
    "    print(s[0:x])\n",
    "for i in s:\n",
    "    x=x-1\n",
    "    print(s[0:x])\n",
    "    \n",
    "         "
   ]
  },
  {
   "cell_type": "markdown",
   "metadata": {},
   "source": [
    "# TASK 2.3\n",
    "Write a Python program to reverse a word after accepting the input from the user"
   ]
  },
  {
   "cell_type": "code",
   "execution_count": 61,
   "metadata": {},
   "outputs": [
    {
     "name": "stdout",
     "output_type": "stream",
     "text": [
      "enter your name :ChandraMouli\n",
      "iluoMardnahC\n"
     ]
    }
   ],
   "source": [
    "s=input(\"enter your name :\")\n",
    "print(s[::-1])"
   ]
  },
  {
   "cell_type": "markdown",
   "metadata": {},
   "source": [
    "# TASK 2.4"
   ]
  },
  {
   "cell_type": "code",
   "execution_count": 77,
   "metadata": {},
   "outputs": [
    {
     "name": "stdout",
     "output_type": "stream",
     "text": [
      "Given String :\n",
      " \n",
      "WE, THE PEOPLE OF INDIA, having solemnly resolved to constitute India into a\n",
      "SOVEREIGN, SOCIALIST, SECULAR, DEMOCRATIC REPUBLIC and to secure to all\n",
      "its citizens\n",
      "______________________________________________________________________ \n",
      "Given String printed in Required format :\n",
      " \n",
      "WE, THE PEOPLE OF INDIA,\n",
      "\thaving solemnly resolved to constitute India into a SOVEREIGN, !\n",
      "\t\tSOCIALIST, SECULAR, DEMOCRATIC REPUBLIC \n",
      "\t\t  and to secure to all its citizens\n"
     ]
    }
   ],
   "source": [
    "print(\"Given String :\")\n",
    "print(\" \")\n",
    "print(\"WE, THE PEOPLE OF INDIA, having solemnly resolved to constitute India into a\"'\\n'\"SOVEREIGN, SOCIALIST, SECULAR, DEMOCRATIC REPUBLIC and to secure to all\"'\\n'\"its citizens\")\n",
    "print(\"______________________________________________________________________ \")\n",
    "print(\"Given String printed in Required format :\")\n",
    "print(\" \")\n",
    "print(\"WE, THE PEOPLE OF INDIA,\" '\\n' '\\t' \"having solemnly resolved to constitute India into a SOVEREIGN, !\" '\\n''\\t''\\t'\"SOCIALIST, SECULAR, DEMOCRATIC REPUBLIC \" '\\n' '\\t' '\\t',' ' \"and to secure to all its citizens\")"
   ]
  },
  {
   "cell_type": "code",
   "execution_count": null,
   "metadata": {},
   "outputs": [],
   "source": []
  }
 ],
 "metadata": {
  "kernelspec": {
   "display_name": "Python 3",
   "language": "python",
   "name": "python3"
  },
  "language_info": {
   "codemirror_mode": {
    "name": "ipython",
    "version": 3
   },
   "file_extension": ".py",
   "mimetype": "text/x-python",
   "name": "python",
   "nbconvert_exporter": "python",
   "pygments_lexer": "ipython3",
   "version": "3.7.4"
  }
 },
 "nbformat": 4,
 "nbformat_minor": 2
}
