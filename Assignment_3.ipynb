{
  "nbformat": 4,
  "nbformat_minor": 0,
  "metadata": {
    "colab": {
      "name": "Assignment 3.ipynb",
      "provenance": [],
      "collapsed_sections": [],
      "include_colab_link": true
    },
    "kernelspec": {
      "name": "python3",
      "display_name": "Python 3"
    }
  },
  "cells": [
    {
      "cell_type": "markdown",
      "metadata": {
        "id": "view-in-github",
        "colab_type": "text"
      },
      "source": [
        "<a href=\"https://colab.research.google.com/github/Chandramouli419/Assignment/blob/master/Assignment_3.ipynb\" target=\"_parent\"><img src=\"https://colab.research.google.com/assets/colab-badge.svg\" alt=\"Open In Colab\"/></a>"
      ]
    },
    {
      "cell_type": "markdown",
      "metadata": {
        "id": "Tx5mONuOI7Ns",
        "colab_type": "text"
      },
      "source": [
        "# TASK 1 Write a function to compute 5/0 and use try/except to catch the exceptions."
      ]
    },
    {
      "cell_type": "code",
      "metadata": {
        "id": "y9K-Iea1R13_",
        "colab_type": "code",
        "colab": {
          "base_uri": "https://localhost:8080/",
          "height": 34
        },
        "outputId": "9c74c2cd-81c9-4c86-c97b-d244d0459f48"
      },
      "source": [
        "def compute():\n",
        "         try:\n",
        "             x = 5/0\n",
        "         except:\n",
        "           print(\"Error Dividing by Zero\")\n",
        "compute()"
      ],
      "execution_count": 1,
      "outputs": [
        {
          "output_type": "stream",
          "text": [
            "Error Dividing by Zero\n"
          ],
          "name": "stdout"
        }
      ]
    },
    {
      "cell_type": "markdown",
      "metadata": {
        "id": "0XRdvOr9JTKx",
        "colab_type": "text"
      },
      "source": [
        "# Implement a Python program to generate all sentences where subject is in [\"Americans\",\n",
        "# \"Indians\"] and verb is in [\"Play\", \"watch\"] and the object is in [\"Baseball\", \"cricket\"]."
      ]
    },
    {
      "cell_type": "code",
      "metadata": {
        "id": "HOMlIz_zXdjM",
        "colab_type": "code",
        "colab": {
          "base_uri": "https://localhost:8080/",
          "height": 156
        },
        "outputId": "c21487dd-bfb6-4512-fc2a-e945ea22246d"
      },
      "source": [
        "class games():\n",
        "  def __init__(self,subjects,verbs,objects):\n",
        "    self.subjects = subjects\n",
        "    self.verbs = verbs\n",
        "    self.objects = objects\n",
        "  def play(self):\n",
        "    len = [(subjects[i]+' '+verbs[j]+' '+objects[k]) for i in range(0,2) for j in range(0,2) for k in range(0,2)]\n",
        "    for i in len:\n",
        "      print(i)\n",
        "country=games([\"Americans\",\"Indians\"],[\"play\",\"watch\"],[\"Baseball\",\"Cricket\"])\n",
        "country.play()"
      ],
      "execution_count": 25,
      "outputs": [
        {
          "output_type": "stream",
          "text": [
            "Americans play Baseball\n",
            "Americans play Cricket\n",
            "Americans watch Baseball\n",
            "Americans watch Cricket\n",
            "Indians play Baseball\n",
            "Indians play Cricket\n",
            "Indians watch Baseball\n",
            "Indians watch Cricket\n"
          ],
          "name": "stdout"
        }
      ]
    },
    {
      "cell_type": "markdown",
      "metadata": {
        "id": "QTE1mD9PJlzi",
        "colab_type": "text"
      },
      "source": [
        "# TASK 2 Alexandre-Theophile Vandermonde Matrix."
      ]
    },
    {
      "cell_type": "code",
      "metadata": {
        "id": "wZ_k2IAN5Hjy",
        "colab_type": "code",
        "colab": {
          "base_uri": "https://localhost:8080/",
          "height": 104
        },
        "outputId": "998a5382-5ba1-4c21-92ab-cbf2f436cf81"
      },
      "source": [
        "x=[1,2,3,5]\n",
        "len = [[x[j]**i for i in range(0,4)] for j in range(0,4)]\n",
        "len\n",
        "n=str(input(\"increasing value :\"))\n",
        "for k in len:\n",
        "  if n == \"True\":\n",
        "    print(k)\n",
        "  else:\n",
        "    print(k[::-1])"
      ],
      "execution_count": 235,
      "outputs": [
        {
          "output_type": "stream",
          "text": [
            "increasing value :False\n",
            "[1, 1, 1, 1]\n",
            "[8, 4, 2, 1]\n",
            "[27, 9, 3, 1]\n",
            "[125, 25, 5, 1]\n"
          ],
          "name": "stdout"
        }
      ]
    },
    {
      "cell_type": "code",
      "metadata": {
        "id": "OYB5Q6afS7B5",
        "colab_type": "code",
        "colab": {}
      },
      "source": [
        ""
      ],
      "execution_count": 0,
      "outputs": []
    },
    {
      "cell_type": "code",
      "metadata": {
        "colab_type": "code",
        "outputId": "a8b684c1-0b16-46b3-eb8f-2733df8349b1",
        "id": "vn6BMxrQS75s",
        "colab": {
          "base_uri": "https://localhost:8080/",
          "height": 104
        }
      },
      "source": [
        "x=[1,2,3,5]\n",
        "len = [[x[j]**i for i in range(0,4)] for j in range(0,4)]\n",
        "len\n",
        "n=str(input(\"increasing value :\"))\n",
        "for k in len:\n",
        "  if n == \"True\":\n",
        "    print(k)\n",
        "  else:\n",
        "    print(k[::-1])"
      ],
      "execution_count": 236,
      "outputs": [
        {
          "output_type": "stream",
          "text": [
            "increasing value :True\n",
            "[1, 1, 1, 1]\n",
            "[1, 2, 4, 8]\n",
            "[1, 3, 9, 27]\n",
            "[1, 5, 25, 125]\n"
          ],
          "name": "stdout"
        }
      ]
    },
    {
      "cell_type": "markdown",
      "metadata": {
        "id": "m-2LjelLKB8q",
        "colab_type": "text"
      },
      "source": [
        "or using numpy"
      ]
    },
    {
      "cell_type": "code",
      "metadata": {
        "id": "HVNzz0ueakO1",
        "colab_type": "code",
        "colab": {
          "base_uri": "https://localhost:8080/",
          "height": 86
        },
        "outputId": "49b2439a-a48b-4d55-ab2f-72bbb6266bbd"
      },
      "source": [
        "import numpy as np\n",
        "x = np.array([1, 2, 3, 5])\n",
        "N = 4\n",
        "np.vander(x, increasing=False)\n",
        "np.column_stack([x**(N-i-1) for i in range(N)])"
      ],
      "execution_count": 241,
      "outputs": [
        {
          "output_type": "execute_result",
          "data": {
            "text/plain": [
              "array([[  1,   1,   1,   1],\n",
              "       [  8,   4,   2,   1],\n",
              "       [ 27,   9,   3,   1],\n",
              "       [125,  25,   5,   1]])"
            ]
          },
          "metadata": {
            "tags": []
          },
          "execution_count": 241
        }
      ]
    },
    {
      "cell_type": "code",
      "metadata": {
        "id": "7-UJbUi3Ug43",
        "colab_type": "code",
        "colab": {}
      },
      "source": [
        ""
      ],
      "execution_count": 0,
      "outputs": []
    },
    {
      "cell_type": "code",
      "metadata": {
        "id": "vdDT_-0ptIO9",
        "colab_type": "code",
        "colab": {}
      },
      "source": [
        ""
      ],
      "execution_count": 0,
      "outputs": []
    }
  ]
}