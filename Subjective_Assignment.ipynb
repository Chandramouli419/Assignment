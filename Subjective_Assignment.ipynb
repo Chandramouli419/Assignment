{
  "nbformat": 4,
  "nbformat_minor": 0,
  "metadata": {
    "colab": {
      "name": "Subjective_Assignment.ipynb",
      "provenance": [],
      "collapsed_sections": [],
      "include_colab_link": true
    },
    "kernelspec": {
      "name": "python3",
      "display_name": "Python 3"
    }
  },
  "cells": [
    {
      "cell_type": "markdown",
      "metadata": {
        "id": "view-in-github",
        "colab_type": "text"
      },
      "source": [
        "<a href=\"https://colab.research.google.com/github/Chandramouli419/Assignment/blob/master/Subjective_Assignment.ipynb\" target=\"_parent\"><img src=\"https://colab.research.google.com/assets/colab-badge.svg\" alt=\"Open In Colab\"/></a>"
      ]
    },
    {
      "cell_type": "code",
      "metadata": {
        "id": "7t8iy0EtiCsV",
        "colab_type": "code",
        "colab": {}
      },
      "source": [
        "Q1. Write a Python program to get the string from the given string where\n",
        "all the occurrence of its first char has been changed to '$,' except first\n",
        "char itself?"
      ],
      "execution_count": 0,
      "outputs": []
    },
    {
      "cell_type": "code",
      "metadata": {
        "id": "-l605UY2ie7Y",
        "colab_type": "code",
        "colab": {
          "base_uri": "https://localhost:8080/",
          "height": 34
        },
        "outputId": "9ae04bc0-12b1-45ef-a9ad-c8365b6b1928"
      },
      "source": [
        "def replace_sec_occ(s):\n",
        "  firstchar = s[0]\n",
        "  modifiedstr = s[1:].replace(firstchar, \"$\")\n",
        "  finalstr = firstchar + modifiedstr\n",
        "  print(finalstr)\n",
        "replace_sec_occ('prospect')"
      ],
      "execution_count": 3,
      "outputs": [
        {
          "output_type": "stream",
          "text": [
            "pros$ect\n"
          ],
          "name": "stdout"
        }
      ]
    },
    {
      "cell_type": "markdown",
      "metadata": {
        "id": "FZuHeIOHkHyQ",
        "colab_type": "text"
      },
      "source": [
        "Q2. Write a Python program to get the single string from the two given\n",
        "strings, and separated by the space and swap the first two characters of\n",
        "each string?"
      ]
    },
    {
      "cell_type": "code",
      "metadata": {
        "id": "kpYokVRwkPPI",
        "colab_type": "code",
        "colab": {
          "base_uri": "https://localhost:8080/",
          "height": 34
        },
        "outputId": "f4f4e631-0ae1-4ca6-bc3c-7c6e28f244b3"
      },
      "source": [
        "str = ['abc','xyz']\n",
        "c1 = str[0][0]\n",
        "c2 = str[0][1]\n",
        "c3 = str[1][0]\n",
        "c4 = str[1][1]\n",
        "finalstr=str[0][0].replace(c1,c3)+str[0][1].replace(c2,c4)+str[0][2]+ \" \" +str[1][0].replace(c3,c1)+str[1][1].replace(c4,c2)+str[1][2]\n",
        "print(finalstr)"
      ],
      "execution_count": 3,
      "outputs": [
        {
          "output_type": "stream",
          "text": [
            "xyc abz\n"
          ],
          "name": "stdout"
        }
      ]
    },
    {
      "cell_type": "markdown",
      "metadata": {
        "id": "VBY2c9AEq07o",
        "colab_type": "text"
      },
      "source": [
        "Q3. Write the Python program to add 'ing' at the end of the given string\n",
        "(length of the string should be at least 3). If given string already ends\n",
        "with 'ing,' then add 'ly' instead. If string length of the given string is less\n",
        "than 3, leave it unchanged?"
      ]
    },
    {
      "cell_type": "code",
      "metadata": {
        "id": "pmLNebFvlnYl",
        "colab_type": "code",
        "colab": {
          "base_uri": "https://localhost:8080/",
          "height": 69
        },
        "outputId": "2b241d5d-5f0b-4916-be71-8d178973df1a"
      },
      "source": [
        "def string(str1):\n",
        "  length = len(str1)\n",
        "  if length > 2:\n",
        "    if str1[-3:] == 'ing':\n",
        "      str1 = str1+'ly'\n",
        "    else:\n",
        "      str1 =str1+'ing'\n",
        "  return str1\n",
        "print(string('ab'))\n",
        "print(string('abc'))\n",
        "print(string('string'))"
      ],
      "execution_count": 5,
      "outputs": [
        {
          "output_type": "stream",
          "text": [
            "ab\n",
            "abcing\n",
            "stringly\n"
          ],
          "name": "stdout"
        }
      ]
    },
    {
      "cell_type": "markdown",
      "metadata": {
        "id": "PSy3SOGKClJS",
        "colab_type": "text"
      },
      "source": [
        "Q4. Write the Python program to find the first appearance of the\n",
        "substring 'not' and 'poor' from the given string, if 'not' follows the 'poor',\n",
        "replace the whole 'not'...' poor' substring with 'good'.Return the resulting\n",
        "string."
      ]
    },
    {
      "cell_type": "code",
      "metadata": {
        "id": "tzIIpLmDCpbj",
        "colab_type": "code",
        "colab": {}
      },
      "source": [
        ""
      ],
      "execution_count": 0,
      "outputs": []
    }
  ]
}